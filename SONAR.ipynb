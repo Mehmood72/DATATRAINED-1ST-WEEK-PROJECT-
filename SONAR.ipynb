{
 "cells": [
  {
   "cell_type": "code",
   "execution_count": null,
   "metadata": {},
   "outputs": [],
   "source": [
    "import pandas as pd\n",
    "import numpy as np\n",
    "import matplotlib.pyplot as plt\n",
    "import seaborn as sns\n",
    "from scipy.stats import zscore\n",
    "from sklearn.linear_model import LogisticRegression\n",
    "from sklearn.metrics import accuracy_score\n",
    "from sklearn.metrics import confusion_matrix,classification_report\n",
    "from sklearn.model_selection import train_test_split\n"
   ]
  },
  {
   "cell_type": "markdown",
   "metadata": {},
   "source": [
    "WE ARE CHANGING R AS 0 AND M AS 1 BECAUSE MODEL ONLY UNDERSTAND NUMERIC VALUE."
   ]
  },
  {
   "cell_type": "code",
   "execution_count": null,
   "metadata": {},
   "outputs": [],
   "source": [
    "snr=pd.read_csv('sonar.csv')\n",
    "snr.replace('R',0,inplace=True)\n",
    "snr.replace('M',1,inplace=True)\n",
    "snr"
   ]
  },
  {
   "cell_type": "code",
   "execution_count": null,
   "metadata": {},
   "outputs": [],
   "source": [
    "snr.shape"
   ]
  },
  {
   "cell_type": "code",
   "execution_count": null,
   "metadata": {},
   "outputs": [],
   "source": [
    "snr.columns"
   ]
  },
  {
   "cell_type": "code",
   "execution_count": null,
   "metadata": {},
   "outputs": [],
   "source": [
    "v=snr.isnull().sum()\n",
    "v\n",
    "#SO, THERE IS NO NULL VALUE PRESENT IN OUT DATASET"
   ]
  },
  {
   "cell_type": "code",
   "execution_count": null,
   "metadata": {},
   "outputs": [],
   "source": [
    "sns.heatmap(snr.isnull())\n",
    "plt.show()\n",
    "#NO NULL VALUES."
   ]
  },
  {
   "cell_type": "markdown",
   "metadata": {},
   "source": [
    "THIS IS  THE DESCRIPTION OF ALL THE COLUMNS."
   ]
  },
  {
   "cell_type": "code",
   "execution_count": null,
   "metadata": {},
   "outputs": [],
   "source": [
    "snr.describe()\n"
   ]
  },
  {
   "cell_type": "markdown",
   "metadata": {},
   "source": [
    "IF SKEWNESS < -1 OR IF SKEWNESS > 1 , THAT MEANS DATA IS HIGHLY SKEWED\n",
    "\n",
    "IF SKEWNESS IN BETWEEN ( -1 TO 1 ), IT IS ALRIGHT\n",
    "\n",
    "IF SKEWNESS IS IN BETWEEN ( -1 TO -0.5) AND ( 0.5 TO 1) , THEN IT IS MODERLY SKEWED\n",
    "\n",
    "IF SKEWNESS IN BETWEEN ( -0.5 TO 0.5 ), DISTRIBUTION IS CONSIDERES AS SYMMETRIC."
   ]
  },
  {
   "cell_type": "code",
   "execution_count": null,
   "metadata": {},
   "outputs": [],
   "source": [
    "snr.skew()\n",
    "\n",
    "\n",
    "#SO THERE ARE SKEWNESS IS PRESENT."
   ]
  },
  {
   "cell_type": "markdown",
   "metadata": {},
   "source": [
    "REMOVING SKEWNESS USING log function."
   ]
  },
  {
   "cell_type": "code",
   "execution_count": null,
   "metadata": {},
   "outputs": [],
   "source": [
    "for col in snr.columns:\n",
    "    if snr.skew().loc[col]>0.55:\n",
    "        snr[col]=np.log1p(snr[col])\n",
    "snr.skew()"
   ]
  },
  {
   "cell_type": "markdown",
   "metadata": {},
   "source": [
    "\n",
    "VISUALIZATION\n",
    "\n",
    "UNIVARIENT ANALYSIS"
   ]
  },
  {
   "cell_type": "code",
   "execution_count": null,
   "metadata": {},
   "outputs": [],
   "source": [
    "snr['0.0200'].plot.hist()"
   ]
  },
  {
   "cell_type": "code",
   "execution_count": null,
   "metadata": {},
   "outputs": [],
   "source": [
    "snr['0.0090'].plot.hist()"
   ]
  },
  {
   "cell_type": "code",
   "execution_count": null,
   "metadata": {},
   "outputs": [],
   "source": [
    "#BOXPLOT FOR DETECTING OUTLIERS\n",
    "snr['0.0090'].plot.box()\n",
    "#OUTLIERS ARE PRESENT IN \"0.0090\" COLUMN NO."
   ]
  },
  {
   "cell_type": "code",
   "execution_count": null,
   "metadata": {},
   "outputs": [],
   "source": [
    "snr['0.0200'].plot.box()"
   ]
  },
  {
   "cell_type": "code",
   "execution_count": null,
   "metadata": {},
   "outputs": [],
   "source": [
    "snr.plot(kind='box',subplots=True,layout=(16,4))\n",
    "#SHOWS ALL THE COLUMNS WITH BOX PLOT"
   ]
  },
  {
   "cell_type": "code",
   "execution_count": null,
   "metadata": {},
   "outputs": [],
   "source": [
    "plt.violinplot(snr['0.0200'])\n",
    "#MEANS MOST OF THE VALUES IN COLUMN '0.0200' LIE BETWEEN 0.00 TO 0.04"
   ]
  },
  {
   "cell_type": "code",
   "execution_count": null,
   "metadata": {},
   "outputs": [],
   "source": [
    "plt.violinplot(snr['0.0090'])"
   ]
  },
  {
   "cell_type": "markdown",
   "metadata": {},
   "source": [
    "VISUALIZATION\n",
    "\n",
    "BIVARIENT ANALYSIS."
   ]
  },
  {
   "cell_type": "code",
   "execution_count": null,
   "metadata": {},
   "outputs": [],
   "source": [
    "plt.scatter(snr['0.0200'],snr['0.0090'])"
   ]
  },
  {
   "cell_type": "code",
   "execution_count": null,
   "metadata": {},
   "outputs": [],
   "source": [
    "plt.scatter(snr['0.0207'],snr['0.0090'])"
   ]
  },
  {
   "cell_type": "code",
   "execution_count": null,
   "metadata": {},
   "outputs": [],
   "source": [
    "plt.scatter(snr['0.0207'],snr['R'])"
   ]
  },
  {
   "cell_type": "code",
   "execution_count": null,
   "metadata": {},
   "outputs": [],
   "source": [
    "sns.stripplot(x='0.0207',y='R',data=snr)"
   ]
  },
  {
   "cell_type": "code",
   "execution_count": null,
   "metadata": {},
   "outputs": [],
   "source": [
    "sns.pairplot(snr)"
   ]
  },
  {
   "cell_type": "code",
   "execution_count": null,
   "metadata": {},
   "outputs": [],
   "source": [
    "cor=snr.corr()\n",
    "plt.figure(figsize=(9,8))\n",
    "sns.heatmap(cor,annot=True)\n",
    "plt.show()\n",
    "#WITH THIS CORRELATION WE KNOW THAT HOW VARIABLES OR COLUMNS ARE CORRELATED TO EACH OTHER.\n",
    "#WE USE sns.heatmap TO SHOW CORRELATION BETWEEN VARIABLES VISUALLY.\n"
   ]
  },
  {
   "cell_type": "markdown",
   "metadata": {},
   "source": [
    " NOW REMOVING OUTLIERS"
   ]
  },
  {
   "cell_type": "code",
   "execution_count": null,
   "metadata": {},
   "outputs": [],
   "source": [
    "zsc=abs(zscore(snr))\n",
    "zsc\n",
    "#THESE ALL ARE ZSCORE VALUES OF ALL COLUMNS."
   ]
  },
  {
   "cell_type": "code",
   "execution_count": null,
   "metadata": {},
   "outputs": [],
   "source": [
    "threshold=3\n",
    "print(np.where(zsc>3))\n",
    "# HERE FIRST ARRAY IS SHOWING ROW NO. AND SECOND ARRAY IS SHOWING COLUMN NO. WHERE OUTLIER PRESENT"
   ]
  },
  {
   "cell_type": "code",
   "execution_count": null,
   "metadata": {},
   "outputs": [],
   "source": [
    "zsc[1][8]\n",
    "#AS WE SEE THAT VALUE IS GREATER THAN 3, SO IT IS A OUTLIER.\n",
    "#WHEN ZSCORE VALUE IS NOT IN BETWEEN IN RANGE OF -3 TO +3, THEN THAT VALUE IS CONSIDERED AS OUTLIER."
   ]
  },
  {
   "cell_type": "code",
   "execution_count": null,
   "metadata": {},
   "outputs": [],
   "source": [
    "zsc[18][4]"
   ]
  },
  {
   "cell_type": "code",
   "execution_count": null,
   "metadata": {},
   "outputs": [],
   "source": [
    "new_x=snr[(zsc<3).all(axis=1)]\n",
    "new_x\n",
    "#NOW WE REMOVE ALL THE OUTLIERS FROM OUR DATASET."
   ]
  },
  {
   "cell_type": "code",
   "execution_count": null,
   "metadata": {},
   "outputs": [],
   "source": [
    "print(snr.shape)  #(DATASET BEFORE REMOVING OUTLIERS)\n",
    "\n",
    "new_x.shape        #(DATASET AFTER REMOVING OUTLIERS)\n",
    "\n",
    "#AS WE CAN SEE HERE THAT 35 REMOVES FROM OLD DATASET."
   ]
  },
  {
   "cell_type": "code",
   "execution_count": null,
   "metadata": {},
   "outputs": [],
   "source": [
    "#NOW CHECKING DISTRIBUTION OF SKEWNESS AFTER REMOVING OUTLIERS.\n",
    "sns.distplot(new_x['0.0200'])"
   ]
  },
  {
   "cell_type": "code",
   "execution_count": null,
   "metadata": {},
   "outputs": [],
   "source": [
    "sns.distplot(new_x['0.1539'])"
   ]
  },
  {
   "cell_type": "code",
   "execution_count": null,
   "metadata": {},
   "outputs": [],
   "source": [
    "sns.distplot(new_x['0.0065'])"
   ]
  },
  {
   "cell_type": "markdown",
   "metadata": {},
   "source": [
    "APPLY LOGISTIC REGRESSION"
   ]
  },
  {
   "cell_type": "code",
   "execution_count": null,
   "metadata": {},
   "outputs": [],
   "source": [
    "x=new_x.iloc[:,:-1]\n",
    "x.shape"
   ]
  },
  {
   "cell_type": "code",
   "execution_count": null,
   "metadata": {},
   "outputs": [],
   "source": [
    "y=new_x.iloc[:,-1]\n",
    "y.shape\n"
   ]
  },
  {
   "cell_type": "code",
   "execution_count": null,
   "metadata": {},
   "outputs": [],
   "source": [
    "train_x,test_x,train_y,test_y=train_test_split(x,y,test_size=.25,random_state=54)"
   ]
  },
  {
   "cell_type": "code",
   "execution_count": null,
   "metadata": {},
   "outputs": [],
   "source": [
    "train_x.shape"
   ]
  },
  {
   "cell_type": "code",
   "execution_count": null,
   "metadata": {},
   "outputs": [],
   "source": [
    "test_x.shape"
   ]
  },
  {
   "cell_type": "code",
   "execution_count": null,
   "metadata": {},
   "outputs": [],
   "source": [
    "train_y.shape"
   ]
  },
  {
   "cell_type": "code",
   "execution_count": null,
   "metadata": {},
   "outputs": [],
   "source": [
    "test_y.shape"
   ]
  },
  {
   "cell_type": "code",
   "execution_count": null,
   "metadata": {},
   "outputs": [],
   "source": [
    "lg=LogisticRegression()\n"
   ]
  },
  {
   "cell_type": "code",
   "execution_count": null,
   "metadata": {},
   "outputs": [],
   "source": [
    "lg.fit(train_x,train_y)"
   ]
  },
  {
   "cell_type": "code",
   "execution_count": null,
   "metadata": {},
   "outputs": [],
   "source": [
    "pred=lg.predict(test_x)\n",
    "print(pred)\n",
    "#0 MEANS ROCK AND 1 MEANS METAL"
   ]
  },
  {
   "cell_type": "code",
   "execution_count": null,
   "metadata": {},
   "outputs": [],
   "source": [
    "print('ACCURACY SCORE : ',accuracy_score(test_y,pred))\n",
    "#MEANS OUR MODEL IS 81 PERCENT WORKING WELL"
   ]
  },
  {
   "cell_type": "code",
   "execution_count": null,
   "metadata": {},
   "outputs": [],
   "source": [
    "print(confusion_matrix(test_y,pred))"
   ]
  },
  {
   "cell_type": "code",
   "execution_count": null,
   "metadata": {},
   "outputs": [],
   "source": [
    "print(classification_report(test_y,pred))"
   ]
  },
  {
   "cell_type": "code",
   "execution_count": null,
   "metadata": {},
   "outputs": [],
   "source": []
  }
 ],
 "metadata": {
  "kernelspec": {
   "display_name": "Python 3",
   "language": "python",
   "name": "python3"
  },
  "language_info": {
   "codemirror_mode": {
    "name": "ipython",
    "version": 3
   },
   "file_extension": ".py",
   "mimetype": "text/x-python",
   "name": "python",
   "nbconvert_exporter": "python",
   "pygments_lexer": "ipython3",
   "version": "3.7.6"
  }
 },
 "nbformat": 4,
 "nbformat_minor": 4
}
